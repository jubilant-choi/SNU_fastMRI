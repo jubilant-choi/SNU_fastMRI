{
 "cells": [
  {
   "cell_type": "code",
   "execution_count": 28,
   "id": "8631c2aa",
   "metadata": {},
   "outputs": [
    {
     "name": "stdout",
     "output_type": "stream",
     "text": [
      "<HDF5 dataset \"mask\": shape (396,), type \"<f4\">\n"
     ]
    }
   ],
   "source": [
    "import torch\n",
    "import os\n",
    "import re\n",
    "import h5py\n",
    "import random\n",
    "import numpy as np\n",
    "from pathlib import Path\n",
    "from copy import deepcopy\n",
    "\n",
    "from utils.data.transforms import DataTransform, DataTransform_kspace\n",
    "from torch.utils.data import Dataset, DataLoader\n",
    "\n",
    "fname = os.listdir('/root/input/kspace')[0]\n",
    "fname = '/root/input/kspace/'+fname\n",
    "\n",
    "with h5py.File(fname, \"r\") as hf:\n",
    "    print(hf['mask'])\n",
    "    "
   ]
  }
 ],
 "metadata": {
  "kernelspec": {
   "display_name": "Full on Python 3.6 (GPU)",
   "language": "python",
   "name": "python3"
  },
  "language_info": {
   "codemirror_mode": {
    "name": "ipython",
    "version": 3
   },
   "file_extension": ".py",
   "mimetype": "text/x-python",
   "name": "python",
   "nbconvert_exporter": "python",
   "pygments_lexer": "ipython3",
   "version": "3.6.14"
  }
 },
 "nbformat": 4,
 "nbformat_minor": 5
}
