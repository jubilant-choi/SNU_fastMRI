{
 "cells": [
  {
   "cell_type": "code",
   "execution_count": 1,
   "id": "74d5c4f4",
   "metadata": {},
   "outputs": [],
   "source": [
    "import os\n",
    "import numpy as np\n",
    "import h5py\n",
    "\n",
    "def set_cmask():\n",
    "    mask = np.ones((384,384),dtype=np.int8)\n",
    "    r = 384//2\n",
    "    center = np.array((r,r))\n",
    "\n",
    "    for x in range(384):\n",
    "        for y in range(384):\n",
    "            if np.linalg.norm(np.array((x,y))-center) >= r-30:\n",
    "                mask[x][y] = 0\n",
    "    return mask\n",
    "\n",
    "def label_cmask():\n",
    "    cmask = set_cmask()\n",
    "    for file in os.listdir():\n",
    "        with h5py.File(file, \"a\") as hf:\n",
    "            hf['image_label_cmask'] = hf['image_label'] * cmask\n",
    "\n",
    "os.chdir('/root/input/image')\n",
    "label_cmask()"
   ]
  }
 ],
 "metadata": {
  "kernelspec": {
   "display_name": "Full on Python 3.6 (GPU)",
   "language": "python",
   "name": "python3"
  },
  "language_info": {
   "codemirror_mode": {
    "name": "ipython",
    "version": 3
   },
   "file_extension": ".py",
   "mimetype": "text/x-python",
   "name": "python",
   "nbconvert_exporter": "python",
   "pygments_lexer": "ipython3",
   "version": "3.6.14"
  }
 },
 "nbformat": 4,
 "nbformat_minor": 5
}
