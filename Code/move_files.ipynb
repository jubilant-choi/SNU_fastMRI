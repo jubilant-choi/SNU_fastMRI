{
 "cells": [
  {
   "cell_type": "code",
   "execution_count": 1,
   "id": "5b4f0a65",
   "metadata": {},
   "outputs": [
    {
     "name": "stdout",
     "output_type": "stream",
     "text": [
      "325 82\n",
      "407 407\n"
     ]
    }
   ],
   "source": [
    "import os\n",
    "import shutil\n",
    "\n",
    "imgs=os.listdir('/root/input/train/image')\n",
    "imgs.sort()\n",
    "num_train = int(len(imgs)*(0.8))\n",
    "num_val = len(imgs) - num_train\n",
    "print(num_train, num_val)\n",
    "print(num_train+num_val, len(imgs))"
   ]
  },
  {
   "cell_type": "code",
   "execution_count": 2,
   "id": "55c09a87",
   "metadata": {},
   "outputs": [
    {
     "name": "stdout",
     "output_type": "stream",
     "text": [
      "['brain1.h5', 'brain2.h5', 'brain3.h5', 'brain4.h5', 'brain5.h5', 'brain6.h5', 'brain7.h5', 'brain8.h5', 'brain9.h5', 'brain10.h5', 'brain11.h5', 'brain12.h5', 'brain13.h5', 'brain14.h5', 'brain15.h5', 'brain16.h5', 'brain17.h5', 'brain18.h5', 'brain19.h5', 'brain20.h5', 'brain21.h5', 'brain22.h5', 'brain23.h5', 'brain24.h5', 'brain25.h5', 'brain26.h5', 'brain27.h5', 'brain28.h5', 'brain29.h5', 'brain30.h5', 'brain31.h5', 'brain32.h5', 'brain33.h5', 'brain34.h5', 'brain35.h5', 'brain36.h5', 'brain37.h5', 'brain38.h5', 'brain39.h5', 'brain40.h5', 'brain41.h5', 'brain42.h5', 'brain43.h5', 'brain44.h5', 'brain45.h5', 'brain46.h5', 'brain47.h5', 'brain48.h5', 'brain49.h5', 'brain50.h5', 'brain51.h5', 'brain52.h5', 'brain53.h5', 'brain54.h5', 'brain55.h5', 'brain56.h5', 'brain57.h5', 'brain58.h5', 'brain59.h5', 'brain60.h5', 'brain61.h5', 'brain62.h5', 'brain63.h5', 'brain64.h5', 'brain65.h5', 'brain66.h5', 'brain67.h5', 'brain68.h5', 'brain69.h5', 'brain70.h5', 'brain71.h5', 'brain72.h5', 'brain73.h5', 'brain74.h5', 'brain75.h5', 'brain76.h5', 'brain77.h5', 'brain78.h5', 'brain79.h5', 'brain80.h5', 'brain81.h5', 'brain82.h5', 'brain83.h5', 'brain84.h5', 'brain85.h5', 'brain86.h5', 'brain87.h5', 'brain88.h5', 'brain89.h5', 'brain90.h5', 'brain91.h5', 'brain92.h5', 'brain93.h5', 'brain94.h5', 'brain95.h5', 'brain96.h5', 'brain97.h5', 'brain98.h5', 'brain99.h5', 'brain100.h5', 'brain101.h5', 'brain102.h5', 'brain103.h5', 'brain104.h5', 'brain105.h5', 'brain106.h5', 'brain107.h5', 'brain108.h5', 'brain109.h5', 'brain110.h5', 'brain111.h5', 'brain112.h5', 'brain113.h5', 'brain114.h5', 'brain115.h5', 'brain116.h5', 'brain117.h5', 'brain118.h5', 'brain119.h5', 'brain120.h5', 'brain121.h5', 'brain122.h5', 'brain123.h5', 'brain124.h5', 'brain125.h5', 'brain126.h5', 'brain127.h5', 'brain128.h5', 'brain129.h5', 'brain130.h5', 'brain131.h5', 'brain132.h5', 'brain133.h5', 'brain134.h5', 'brain135.h5', 'brain136.h5', 'brain137.h5', 'brain138.h5', 'brain139.h5', 'brain140.h5', 'brain141.h5', 'brain142.h5', 'brain143.h5', 'brain144.h5', 'brain145.h5', 'brain146.h5', 'brain147.h5', 'brain148.h5', 'brain149.h5', 'brain150.h5', 'brain151.h5', 'brain152.h5', 'brain153.h5', 'brain154.h5', 'brain155.h5', 'brain156.h5', 'brain157.h5', 'brain158.h5', 'brain159.h5', 'brain160.h5', 'brain161.h5', 'brain162.h5', 'brain163.h5', 'brain164.h5', 'brain165.h5', 'brain166.h5', 'brain167.h5', 'brain168.h5', 'brain169.h5', 'brain170.h5', 'brain171.h5', 'brain172.h5', 'brain173.h5', 'brain174.h5', 'brain175.h5', 'brain176.h5', 'brain177.h5', 'brain178.h5', 'brain179.h5', 'brain180.h5', 'brain181.h5', 'brain182.h5', 'brain183.h5', 'brain184.h5', 'brain185.h5', 'brain186.h5', 'brain187.h5', 'brain188.h5', 'brain189.h5', 'brain190.h5', 'brain191.h5', 'brain192.h5', 'brain193.h5', 'brain194.h5', 'brain195.h5', 'brain196.h5', 'brain197.h5', 'brain198.h5', 'brain199.h5', 'brain200.h5', 'brain201.h5', 'brain202.h5', 'brain203.h5', 'brain204.h5', 'brain205.h5', 'brain206.h5', 'brain207.h5', 'brain208.h5', 'brain209.h5', 'brain210.h5', 'brain211.h5', 'brain212.h5', 'brain213.h5', 'brain214.h5', 'brain215.h5', 'brain216.h5', 'brain217.h5', 'brain218.h5', 'brain219.h5', 'brain220.h5', 'brain221.h5', 'brain222.h5', 'brain223.h5', 'brain224.h5', 'brain225.h5', 'brain226.h5', 'brain227.h5', 'brain228.h5', 'brain229.h5', 'brain230.h5', 'brain231.h5', 'brain232.h5', 'brain233.h5', 'brain234.h5', 'brain235.h5', 'brain236.h5', 'brain237.h5', 'brain238.h5', 'brain239.h5', 'brain240.h5', 'brain241.h5', 'brain242.h5', 'brain243.h5', 'brain244.h5', 'brain245.h5', 'brain246.h5', 'brain247.h5', 'brain248.h5', 'brain249.h5', 'brain250.h5', 'brain251.h5', 'brain252.h5', 'brain253.h5', 'brain254.h5', 'brain255.h5', 'brain256.h5', 'brain257.h5', 'brain258.h5', 'brain259.h5', 'brain260.h5', 'brain261.h5', 'brain262.h5', 'brain263.h5', 'brain264.h5', 'brain265.h5', 'brain266.h5', 'brain267.h5', 'brain268.h5', 'brain269.h5', 'brain270.h5', 'brain271.h5', 'brain272.h5', 'brain273.h5', 'brain274.h5', 'brain275.h5', 'brain276.h5', 'brain277.h5', 'brain278.h5', 'brain279.h5', 'brain280.h5', 'brain281.h5', 'brain282.h5', 'brain283.h5', 'brain284.h5', 'brain285.h5', 'brain286.h5', 'brain287.h5', 'brain288.h5', 'brain289.h5', 'brain290.h5', 'brain291.h5', 'brain292.h5', 'brain293.h5', 'brain294.h5', 'brain295.h5', 'brain296.h5', 'brain297.h5', 'brain298.h5', 'brain299.h5', 'brain300.h5', 'brain301.h5', 'brain302.h5', 'brain303.h5', 'brain304.h5', 'brain305.h5', 'brain306.h5', 'brain307.h5', 'brain308.h5', 'brain309.h5', 'brain310.h5', 'brain311.h5', 'brain312.h5', 'brain313.h5', 'brain314.h5', 'brain315.h5', 'brain316.h5', 'brain317.h5', 'brain318.h5', 'brain319.h5', 'brain320.h5', 'brain321.h5', 'brain322.h5', 'brain323.h5', 'brain324.h5', 'brain325.h5', 'brain326.h5', 'brain327.h5', 'brain328.h5', 'brain329.h5', 'brain330.h5', 'brain331.h5', 'brain332.h5', 'brain333.h5', 'brain334.h5', 'brain335.h5', 'brain336.h5', 'brain337.h5', 'brain338.h5', 'brain339.h5', 'brain340.h5', 'brain341.h5', 'brain342.h5', 'brain343.h5', 'brain344.h5', 'brain345.h5', 'brain346.h5', 'brain347.h5', 'brain348.h5', 'brain349.h5', 'brain350.h5', 'brain351.h5', 'brain352.h5', 'brain353.h5', 'brain354.h5', 'brain355.h5', 'brain356.h5', 'brain357.h5', 'brain358.h5', 'brain359.h5', 'brain360.h5', 'brain361.h5', 'brain362.h5', 'brain363.h5', 'brain364.h5', 'brain365.h5', 'brain366.h5', 'brain367.h5', 'brain368.h5', 'brain369.h5', 'brain370.h5', 'brain371.h5', 'brain372.h5', 'brain373.h5', 'brain374.h5', 'brain375.h5', 'brain376.h5', 'brain377.h5', 'brain378.h5', 'brain379.h5', 'brain380.h5', 'brain381.h5', 'brain382.h5', 'brain383.h5', 'brain384.h5', 'brain385.h5', 'brain386.h5', 'brain387.h5', 'brain388.h5', 'brain389.h5', 'brain390.h5', 'brain391.h5', 'brain392.h5', 'brain393.h5', 'brain394.h5', 'brain395.h5', 'brain396.h5', 'brain397.h5', 'brain398.h5', 'brain399.h5', 'brain400.h5', 'brain401.h5', 'brain402.h5', 'brain403.h5', 'brain404.h5', 'brain405.h5', 'brain406.h5', 'brain407.h5']\n"
     ]
    }
   ],
   "source": [
    "import re\n",
    "\n",
    "def atoi(text):\n",
    "    return int(text) if text.isdigit() else text\n",
    "\n",
    "def natural_keys(text):\n",
    "    '''\n",
    "    alist.sort(key=natural_keys) sorts in human order\n",
    "    http://nedbatchelder.com/blog/200712/human_sorting.html\n",
    "    (See Toothy's implementation in the comments)\n",
    "    '''\n",
    "    return [ atoi(c) for c in re.split(r'(\\d+)', text) ]\n",
    "\n",
    "\n",
    "imgs.sort(key=natural_keys)\n",
    "print(imgs)"
   ]
  },
  {
   "cell_type": "code",
   "execution_count": 3,
   "id": "4dd6b41a",
   "metadata": {},
   "outputs": [
    {
     "name": "stdout",
     "output_type": "stream",
     "text": [
      "82\n"
     ]
    }
   ],
   "source": [
    "val_imgs = imgs[-num_val:]\n",
    "print(len(val_imgs))"
   ]
  },
  {
   "cell_type": "code",
   "execution_count": 6,
   "id": "74945b7c",
   "metadata": {},
   "outputs": [],
   "source": [
    "src_dir = '/root/input/train/image/'\n",
    "val_dir = '/root/input/val/image/'"
   ]
  },
  {
   "cell_type": "code",
   "execution_count": 7,
   "id": "06ce0f94",
   "metadata": {},
   "outputs": [],
   "source": [
    "for img in val_imgs:\n",
    "    shutil.move(src_dir+img, val_dir+img)"
   ]
  },
  {
   "cell_type": "code",
   "execution_count": 19,
   "id": "ec9f27d7",
   "metadata": {},
   "outputs": [
    {
     "name": "stdout",
     "output_type": "stream",
     "text": [
      "325\n",
      "82\n"
     ]
    }
   ],
   "source": [
    "print(len(os.listdir(src_dir)))\n",
    "print(len(os.listdir(val_dir)))"
   ]
  },
  {
   "cell_type": "code",
   "execution_count": 8,
   "id": "6d0a1071",
   "metadata": {},
   "outputs": [
    {
     "name": "stdout",
     "output_type": "stream",
     "text": [
      "325 82\n",
      "407 407\n"
     ]
    }
   ],
   "source": [
    "imgs=os.listdir('/root/input/train/kspace')\n",
    "imgs.sort()\n",
    "num_train = int(len(imgs)*(0.8))\n",
    "num_val = len(imgs) - num_train\n",
    "print(num_train, num_val)\n",
    "print(num_train+num_val, len(imgs))\n",
    "imgs.sort(key=natural_keys)\n",
    "\n",
    "src_dir = '/root/input/train/kspace/'\n",
    "val_dir = '/root/input/val/kspace/'\n"
   ]
  },
  {
   "cell_type": "code",
   "execution_count": 9,
   "id": "d74936b7",
   "metadata": {},
   "outputs": [],
   "source": [
    "for img in val_imgs:\n",
    "    shutil.move(src_dir+img, val_dir+img)"
   ]
  },
  {
   "cell_type": "code",
   "execution_count": 16,
   "id": "2647e185",
   "metadata": {},
   "outputs": [],
   "source": [
    "from pathlib import Path"
   ]
  },
  {
   "cell_type": "code",
   "execution_count": 17,
   "id": "e3443622",
   "metadata": {},
   "outputs": [],
   "source": [
    "a = Path('hi')"
   ]
  },
  {
   "cell_type": "code",
   "execution_count": 25,
   "id": "ff0cfbd3",
   "metadata": {},
   "outputs": [
    {
     "data": {
      "text/plain": [
       "'hi'"
      ]
     },
     "execution_count": 25,
     "metadata": {},
     "output_type": "execute_result"
    }
   ],
   "source": [
    "a._str"
   ]
  },
  {
   "cell_type": "code",
   "execution_count": null,
   "id": "cf8f601d",
   "metadata": {},
   "outputs": [],
   "source": []
  }
 ],
 "metadata": {
  "kernelspec": {
   "display_name": "Full on Python 3.6 (GPU)",
   "language": "python",
   "name": "python3"
  },
  "language_info": {
   "codemirror_mode": {
    "name": "ipython",
    "version": 3
   },
   "file_extension": ".py",
   "mimetype": "text/x-python",
   "name": "python",
   "nbconvert_exporter": "python",
   "pygments_lexer": "ipython3",
   "version": "3.6.14"
  }
 },
 "nbformat": 4,
 "nbformat_minor": 5
}
