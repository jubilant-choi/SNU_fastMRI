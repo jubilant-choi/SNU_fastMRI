{
 "cells": [
  {
   "cell_type": "code",
   "execution_count": 1,
   "id": "2493b0cd",
   "metadata": {},
   "outputs": [],
   "source": [
    "import numpy as np\n",
    "import seaborn as sns \n",
    "import matplotlib.pyplot as plt\n",
    "import glob\n",
    "import os\n",
    "import pandas as pd\n",
    "\n",
    "\n",
    "import hashlib\n",
    "import json\n",
    "from os import listdir\n",
    "from os.path import isfile, join\n",
    "import pandas as pd\n",
    "\n",
    "%matplotlib inline"
   ]
  },
  {
   "cell_type": "code",
   "execution_count": 2,
   "id": "637af5e8",
   "metadata": {},
   "outputs": [
    {
     "data": {
      "text/plain": [
       "'/root/SNU_fastMRI/Code'"
      ]
     },
     "execution_count": 2,
     "metadata": {},
     "output_type": "execute_result"
    }
   ],
   "source": [
    "os.getcwd()"
   ]
  },
  {
   "cell_type": "code",
   "execution_count": 3,
   "id": "96d0dbf2",
   "metadata": {},
   "outputs": [
    {
     "name": "stdout",
     "output_type": "stream",
     "text": [
      "../result/SJ/newUnet_48_3_0/jsons/.ipynb_checkpoints/newUnet01-checkpoint.json\n",
      "../result/SJ/newUnet_48_3_0/jsons/newUnet01.json\n",
      "../result/JB/newUnet_16_7_0.1/jsons/.ipynb_checkpoints/newUnet_test03-checkpoint.json\n",
      "../result/JB/newUnet_16_7_0.1/jsons/newUnet_test03.json\n",
      "../result/JB/newUnet/jsons/.ipynb_checkpoints/newUnet_test02-checkpoint.json\n",
      "../result/JB/newUnet/jsons/newUnet_test02.json\n"
     ]
    }
   ],
   "source": [
    "!find .. -name '*.json'"
   ]
  },
  {
   "cell_type": "code",
   "execution_count": 4,
   "id": "66976c60",
   "metadata": {},
   "outputs": [],
   "source": [
    "global dataset, exp, dir_path\n",
    "\n",
    "jsons = ['../result/SJ/newUnet_48_3_0/jsons/newUnet01.json']\n",
    "model='newUnet'"
   ]
  },
  {
   "cell_type": "code",
   "execution_count": 5,
   "id": "5638d9aa",
   "metadata": {},
   "outputs": [
    {
     "name": "stdout",
     "output_type": "stream",
     "text": [
      "../result/SJ/newUnet_48_3_0/jsons/newUnet01.json\n",
      "2022.08.04 07:30:05\n",
      "\n"
     ]
    }
   ],
   "source": [
    "import os.path\n",
    "from datetime import datetime\n",
    "\n",
    "for file in jsons:\n",
    "    print(file)\n",
    "    print(datetime.fromtimestamp(os.path.getctime(file)).strftime('%Y.%m.%d %H:%M:%S'))\n",
    "#     print(\"Last modified: %s\" % time.ctime(os.path.getmtime(dir_path+'/'+file)))\n",
    "#     print(\"Created: %s\" % time.ctime(os.path.getctime(dir_path+'/'+file)))\n",
    "    print()"
   ]
  },
  {
   "cell_type": "code",
   "execution_count": 6,
   "id": "cd720c4c",
   "metadata": {},
   "outputs": [],
   "source": [
    "## ===== loading json file as pandas data frame ===== ##\n",
    "def load_exp_result(filename):\n",
    "    list_result = []\n",
    "    with open(filename, 'r') as infile:\n",
    "        results = json.load(infile)\n",
    "        list_result.append(results)\n",
    "    df = pd.DataFrame(list_result) # .drop(columns=[])\n",
    "    return df\n",
    "\n",
    "\n",
    "## ===== plotting loss and accuracy graph together ===== ## \n",
    "def plot_loss_acc(df,**kwargs):\n",
    "    train_losses = df['train_losses']\n",
    "    train_losses = list(train_losses[0])\n",
    "\n",
    "    val_losses = df['val_losses']\n",
    "    val_losses = list(val_losses[0])\n",
    "    \n",
    "    \n",
    "    ## === making dataframe for loss === ##\n",
    "    loss_data = []\n",
    "    \n",
    "    for epoch,train_loss in enumerate(train_losses,0):\n",
    "        loss_data.append({'type':'train','loss':train_loss,'epoch':epoch})\n",
    "\n",
    "    \n",
    "    for epoch,val_loss in enumerate(val_losses,0):\n",
    "        loss_data.append({'type':'val','loss':val_loss,'epoch':epoch})\n",
    "    \n",
    "    df_loss = pd.DataFrame(loss_data)\n",
    "    ## ================================== ##\n",
    "    \n",
    "#     ## === making dataframe for acc === ##\n",
    "#     acc_data = []\n",
    "    \n",
    "#     for epoch,train_acc in enumerate(train_accs,0):\n",
    "#         acc_data.append({'type':'train','acc':train_acc,'epoch':epoch})\n",
    "    \n",
    "#     for epoch,val_acc in enumerate(val_accs,0):\n",
    "#         acc_data.append({'type':'val','acc':val_acc,'epoch':epoch})\n",
    "        \n",
    "#     df_acc = pd.DataFrame(acc_data)\n",
    "    ## ================================== ##\n",
    "    \n",
    "    ## === plotting == ##\n",
    "    plt.rcParams[\"figure.figsize\"] = (10,6)\n",
    "    plt.subplots_adjust(wspace=0.5)\n",
    "\n",
    "    sns.lineplot(x=df_loss['epoch'], y=df_loss['loss'],hue=df_loss['type'])\n",
    "#     sns.lineplot(x=df_acc['epoch'], y=df_acc['acc'],hue=df_acc['type'],ax=axes[1])\n",
    "    \n",
    "#     model = df['model'][0]\n",
    "#     acc_val = df['val_accs'][0]['age'][-1]\n",
    "    try:\n",
    "        acc_test = df['test_acc'][0]['age'][-1]\n",
    "    except:\n",
    "        pass\n",
    "#     optim = df['optim'][0]\n",
    "    \n",
    "    title_string = f\"Exp name : {df.exp_name[0]}\"\n",
    "    plt.suptitle(title_string,y=1.2)"
   ]
  },
  {
   "cell_type": "code",
   "execution_count": 7,
   "id": "cee68c99",
   "metadata": {},
   "outputs": [
    {
     "data": {
      "image/png": "[encoded data removed]",
      "text/plain": [
       "<Figure size 720x432 with 1 Axes>"
      ]
     },
     "metadata": {
      "needs_background": "light"
     },
     "output_type": "display_data"
    }
   ],
   "source": [
    "# file_list = glob.glob(f'{dir_path}/{exp}')\n",
    "# print(file_list)\n",
    "file_list = jsons\n",
    "for file in file_list:\n",
    "#     file_path = dir_path+'/'+file\n",
    "#     df = load_exp_result(file_path)\n",
    "    df = load_exp_result(file)\n",
    "    dl = plot_loss_acc(df)"
   ]
  },
  {
   "cell_type": "code",
   "execution_count": 8,
   "id": "83c0e582",
   "metadata": {},
   "outputs": [
    {
     "data": {
      "text/plain": [
       "([0.07692046503887723,\n",
       "  0.07668750954172945,\n",
       "  0.07668771542245154,\n",
       "  0.0766792750400134,\n",
       "  0.07672481919840082,\n",
       "  0.07628128792452868,\n",
       "  0.07653968587898635,\n",
       "  0.07590932720488675,\n",
       "  0.07583063708129177,\n",
       "  0.07592389060257942],\n",
       " [0.06515175969393774,\n",
       "  0.06660350933816742,\n",
       "  0.0677499897356136,\n",
       "  0.06821055029036655,\n",
       "  0.0673184624107608,\n",
       "  0.06760027137553745,\n",
       "  0.0669248609868948,\n",
       "  0.0725358277447444,\n",
       "  0.06772240719575984,\n",
       "  0.06745312264565125])"
      ]
     },
     "execution_count": 8,
     "metadata": {},
     "output_type": "execute_result"
    }
   ],
   "source": [
    "df.train_losses[0][-10:],df.val_losses[0][-10:]"
   ]
  },
  {
   "cell_type": "code",
   "execution_count": null,
   "id": "d7110a1f",
   "metadata": {},
   "outputs": [],
   "source": []
  },
  {
   "cell_type": "code",
   "execution_count": 9,
   "id": "2b9de38e",
   "metadata": {},
   "outputs": [
    {
     "ename": "NameError",
     "evalue": "name 'dir_path' is not defined",
     "output_type": "error",
     "traceback": [
      "\u001b[0;31m---------------------------------------------------------------------------\u001b[0m",
      "\u001b[0;31mNameError\u001b[0m                                 Traceback (most recent call last)",
      "\u001b[0;32m<ipython-input-9-3814070919c1>\u001b[0m in \u001b[0;36m<module>\u001b[0;34m\u001b[0m\n\u001b[1;32m      3\u001b[0m \u001b[0mfile_list\u001b[0m \u001b[0;34m=\u001b[0m \u001b[0mjsons\u001b[0m\u001b[0;34m\u001b[0m\u001b[0;34m\u001b[0m\u001b[0m\n\u001b[1;32m      4\u001b[0m \u001b[0;32mfor\u001b[0m \u001b[0mfile\u001b[0m \u001b[0;32min\u001b[0m \u001b[0mfile_list\u001b[0m\u001b[0;34m:\u001b[0m\u001b[0;34m\u001b[0m\u001b[0;34m\u001b[0m\u001b[0m\n\u001b[0;32m----> 5\u001b[0;31m     \u001b[0mfile_path\u001b[0m \u001b[0;34m=\u001b[0m \u001b[0mdir_path\u001b[0m\u001b[0;34m+\u001b[0m\u001b[0;34m'/'\u001b[0m\u001b[0;34m+\u001b[0m\u001b[0mfile\u001b[0m\u001b[0;34m\u001b[0m\u001b[0;34m\u001b[0m\u001b[0m\n\u001b[0m\u001b[1;32m      6\u001b[0m     \u001b[0mdf\u001b[0m \u001b[0;34m=\u001b[0m \u001b[0mload_exp_result\u001b[0m\u001b[0;34m(\u001b[0m\u001b[0mfile_path\u001b[0m\u001b[0;34m)\u001b[0m\u001b[0;34m\u001b[0m\u001b[0;34m\u001b[0m\u001b[0m\n\u001b[1;32m      7\u001b[0m     \u001b[0mdl\u001b[0m \u001b[0;34m=\u001b[0m \u001b[0mplot_loss_acc\u001b[0m\u001b[0;34m(\u001b[0m\u001b[0mdf\u001b[0m\u001b[0;34m)\u001b[0m\u001b[0;34m\u001b[0m\u001b[0;34m\u001b[0m\u001b[0m\n",
      "\u001b[0;31mNameError\u001b[0m: name 'dir_path' is not defined"
     ]
    }
   ],
   "source": [
    "# file_list = glob.glob(f'{dir_path}/{exp}')\n",
    "# print(file_list)\n",
    "file_list = jsons\n",
    "for file in file_list:\n",
    "    file_path = dir_path+'/'+file\n",
    "    df = load_exp_result(file_path)\n",
    "    dl = plot_loss_acc(df)"
   ]
  },
  {
   "cell_type": "code",
   "execution_count": 124,
   "id": "5580bf1d",
   "metadata": {},
   "outputs": [
    {
     "data": {
      "text/plain": [
       "Index(['train_losses', 'train_accs', 'val_losses', 'val_accs', 'train_acc',\n",
       "       'val_acc', 'test_acc', 'model', 'val_size', 'test_size', 'resize',\n",
       "       'train_batch_size', 'val_batch_size', 'in_channels', 'optim', 'lr',\n",
       "       'weight_decay', 'exp_name', 'cat_target', 'num_target',\n",
       "       'confusion_matrix', 'gpus', 'sbatch'],\n",
       "      dtype='object')"
      ]
     },
     "execution_count": 124,
     "metadata": {},
     "output_type": "execute_result"
    }
   ],
   "source": [
    "df.columns"
   ]
  },
  {
   "cell_type": "code",
   "execution_count": 145,
   "id": "d19214fa",
   "metadata": {},
   "outputs": [
    {
     "name": "stdout",
     "output_type": "stream",
     "text": [
      "{'age': [0.05385145723537843]}\n"
     ]
    }
   ],
   "source": [
    "print(f\"{df['test_acc'][0].}\")"
   ]
  },
  {
   "cell_type": "code",
   "execution_count": null,
   "id": "47ddfda6",
   "metadata": {},
   "outputs": [],
   "source": []
  }
 ],
 "metadata": {
  "kernelspec": {
   "display_name": "Full on Python 3.6 (GPU)",
   "language": "python",
   "name": "python3"
  },
  "language_info": {
   "codemirror_mode": {
    "name": "ipython",
    "version": 3
   },
   "file_extension": ".py",
   "mimetype": "text/x-python",
   "name": "python",
   "nbconvert_exporter": "python",
   "pygments_lexer": "ipython3",
   "version": "3.6.14"
  }
 },
 "nbformat": 4,
 "nbformat_minor": 5
}
