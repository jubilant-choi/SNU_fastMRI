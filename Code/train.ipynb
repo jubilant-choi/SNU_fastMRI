{
 "cells": [
  {
   "cell_type": "code",
   "execution_count": null,
   "metadata": {},
   "outputs": [],
   "source": [
    "import sys\n",
    "sys.path.append('/root/fastMRI')"
   ]
  },
  {
   "cell_type": "code",
   "execution_count": null,
   "metadata": {},
   "outputs": [],
   "source": [
    "import argparse\n",
    "import shutil\n",
    "from utils.learning.train_part import train\n",
    "from pathlib import Path\n",
    "\n",
    "\n",
    "def parse():\n",
    "    parser = argparse.ArgumentParser(description='Train Unet on FastMRI challenge Images',\n",
    "                                    formatter_class=argparse.ArgumentDefaultsHelpFormatter)\n",
    "    parser.add_argument('-g', '--GPU-NUM', type=int, default=0, help='GPU number to allocate')\n",
    "    parser.add_argument('-b', '--batch-size', type=int, default=64, help='Batch size')\n",
    "    parser.add_argument('-e', '--num-epochs', type=int, default=2, help='Number of epochs')\n",
    "    parser.add_argument('-l', '--lr', type=float, default=1e-3, help='Learning rate')\n",
    "    parser.add_argument('-r', '--report-interval', type=int, default=20, help='Report interval')\n",
    "    parser.add_argument('-n', '--net-name', type=Path, default='test_Unet', help='Name of network')\n",
    "    parser.add_argument('-t', '--data-path-train', type=Path, default='/root/input/train/image/', help='Directory of train data')\n",
    "    parser.add_argument('-v', '--data-path-val', type=Path, default='/root/input/val/image/', help='Directory of validation data')\n",
    "    \n",
    "    parser.add_argument('--in-chans', type=int, default=1, help='Size of input channels for network')\n",
    "    parser.add_argument('--out-chans', type=int, default=1, help='Size of output channels for network')\n",
    "    parser.add_argument('--input-key', type=str, default='image_input', help='Name of input key')\n",
    "    parser.add_argument('--target-key', type=str, default='image_label', help='Name of target key')\n",
    "    parser.add_argument('--max-key', type=str, default='max', help='Name of max key in attributes')\n",
    "\n",
    "    args = parser.parse_args(args=[])\n",
    "    return args\n",
    "\n",
    "if __name__ == '__main__':\n",
    "    args = parse()\n",
    "    args.exp_dir = '../result' / args.net_name / 'checkpoints'\n",
    "    args.val_dir = '../result' / args.net_name / 'reconstructions_val'\n",
    "\n",
    "    args.exp_dir.mkdir(parents=True, exist_ok=True)\n",
    "    args.val_dir.mkdir(parents=True, exist_ok=True)\n",
    "\n",
    "    train(args)\n"
   ]
  },
  {
   "cell_type": "code",
   "execution_count": null,
   "metadata": {},
   "outputs": [],
   "source": []
  }
 ],
 "metadata": {
  "anaconda-cloud": {},
  "kernelspec": {
   "display_name": "Full on Python 3.6 (GPU)",
   "language": "python",
   "name": "python3"
  },
  "language_info": {
   "codemirror_mode": {
    "name": "ipython",
    "version": 3
   },
   "file_extension": ".py",
   "mimetype": "text/x-python",
   "name": "python",
   "nbconvert_exporter": "python",
   "pygments_lexer": "ipython3",
   "version": "3.6.14"
  }
 },
 "nbformat": 4,
 "nbformat_minor": 4
}
