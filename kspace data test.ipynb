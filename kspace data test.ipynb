{
 "cells": [
  {
   "cell_type": "code",
   "execution_count": 2,
   "id": "9c7a9e69",
   "metadata": {},
   "outputs": [
    {
     "name": "stdout",
     "output_type": "stream",
     "text": [
      "(16, 384, 384)\n"
     ]
    }
   ],
   "source": [
    "import torch\n",
    "import os\n",
    "import re\n",
    "import h5py\n",
    "import random\n",
    "import numpy as np\n",
    "from pathlib import Path\n",
    "from copy import deepcopy\n",
    "\n",
    "from utils.data.transforms import DataTransform, DataTransform_kspace\n",
    "from torch.utils.data import Dataset, DataLoader\n",
    "\n",
    "path = '/root/input/image/'\n",
    "fname = os.listdir(path)[0]\n",
    "fname = path+fname\n",
    "\n",
    "with h5py.File(fname, \"r\") as hf:\n",
    "    print(hf['image_grappa'].shape)\n",
    "    "
   ]
  },
  {
   "cell_type": "code",
   "execution_count": 3,
   "id": "93d68ac5",
   "metadata": {},
   "outputs": [],
   "source": [
    "from utils.data.transforms import DataTransform, DataTransform_kspace"
   ]
  },
  {
   "cell_type": "code",
   "execution_count": 4,
   "id": "29486bb2",
   "metadata": {},
   "outputs": [
    {
     "data": {
      "text/plain": [
       "utils.data.transforms.DataTransform"
      ]
     },
     "execution_count": 4,
     "metadata": {},
     "output_type": "execute_result"
    }
   ],
   "source": [
    "DataTransform"
   ]
  },
  {
   "cell_type": "code",
   "execution_count": 7,
   "id": "72c5ffae",
   "metadata": {},
   "outputs": [
    {
     "data": {
      "text/plain": [
       "__main__.SliceData2"
      ]
     },
     "execution_count": 7,
     "metadata": {},
     "output_type": "execute_result"
    }
   ],
   "source": [
    "class SliceData(Dataset):\n",
    "    def __init__(self, root, transform, input_key, target_key, tv=None, forward=False):\n",
    "        self.transform = transform\n",
    "        self.input_key = input_key\n",
    "        self.target_key = target_key\n",
    "        self.forward = forward\n",
    "        self.image_examples = []\n",
    "        self.kspace_examples = []\n",
    "\n",
    "class SliceData2(Dataset):\n",
    "    def __init__(self, root, transform, input_key, target_key, tv=None, forward=False):\n",
    "        self.transform = transform\n",
    "        self.input_key = input_key\n",
    "        self.target_key = target_key\n",
    "        self.forward = forward\n",
    "        self.image_examples = []\n",
    "        self.kspace_examples = []\n",
    "        \n",
    "a = SliceData\n",
    "b = SliceData2\n",
    "SliceData = b\n",
    "b"
   ]
  }
 ],
 "metadata": {
  "kernelspec": {
   "display_name": "Full on Python 3.6 (GPU)",
   "language": "python",
   "name": "python3"
  },
  "language_info": {
   "codemirror_mode": {
    "name": "ipython",
    "version": 3
   },
   "file_extension": ".py",
   "mimetype": "text/x-python",
   "name": "python",
   "nbconvert_exporter": "python",
   "pygments_lexer": "ipython3",
   "version": "3.6.14"
  }
 },
 "nbformat": 4,
 "nbformat_minor": 5
}
