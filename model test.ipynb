{
 "cells": [
  {
   "cell_type": "code",
   "execution_count": 2,
   "id": "42e12ae0",
   "metadata": {},
   "outputs": [],
   "source": [
    "import shutil\n",
    "import numpy as np\n",
    "import torch\n",
    "import torch.nn as nn\n",
    "import time\n",
    "\n",
    "from collections import defaultdict\n",
    "from utils.data.load_data import create_data_loaders\n",
    "from utils.common.utils import save_reconstructions, ssim_loss\n",
    "from utils.common.loss_function import SSIMLoss\n",
    "from utils.model.unet import Unet\n",
    "from utils.model.unet import Unet2\n",
    "\n",
    "unet = Unet(in_chans = 1, out_chans = 1)\n",
    "unet2 = Unet2(in_chans = 1, out_chans = 1)"
   ]
  },
  {
   "cell_type": "code",
   "execution_count": 1,
   "id": "a2999bb7",
   "metadata": {},
   "outputs": [
    {
     "name": "stdout",
     "output_type": "stream",
     "text": [
      " Code\t\t     plot.py   run_Unet_SJ.py   train.py\n",
      "'model test.ipynb'   result    test_run.py      utils\n"
     ]
    }
   ],
   "source": [
    "!ls"
   ]
  },
  {
   "cell_type": "code",
   "execution_count": 7,
   "id": "e64c6098",
   "metadata": {},
   "outputs": [
    {
     "name": "stdout",
     "output_type": "stream",
     "text": [
      "torch.Size([1, 384, 384])\n"
     ]
    }
   ],
   "source": [
    "dummy_input = torch.Tensor(1, 384, 384)\n",
    "print(dummy_input.shape)"
   ]
  },
  {
   "cell_type": "code",
   "execution_count": 8,
   "id": "54c58402",
   "metadata": {},
   "outputs": [
    {
     "name": "stdout",
     "output_type": "stream",
     "text": [
      "torch.Size([1, 384, 384]) torch.Size([1, 384, 384])\n"
     ]
    }
   ],
   "source": [
    "output1 = unet(dummy_input)\n",
    "output2 = unet2(dummy_input)\n",
    "print(output1.shape, output2.shape)"
   ]
  },
  {
   "cell_type": "code",
   "execution_count": null,
   "id": "8f5a6027",
   "metadata": {},
   "outputs": [],
   "source": []
  }
 ],
 "metadata": {
  "kernelspec": {
   "display_name": "Full on Python 3.6 (GPU)",
   "language": "python",
   "name": "python3"
  },
  "language_info": {
   "codemirror_mode": {
    "name": "ipython",
    "version": 3
   },
   "file_extension": ".py",
   "mimetype": "text/x-python",
   "name": "python",
   "nbconvert_exporter": "python",
   "pygments_lexer": "ipython3",
   "version": "3.6.14"
  }
 },
 "nbformat": 4,
 "nbformat_minor": 5
}
