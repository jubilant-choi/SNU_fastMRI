{
 "cells": [
  {
   "cell_type": "code",
   "execution_count": 1,
   "id": "2198cee1",
   "metadata": {},
   "outputs": [],
   "source": [
    "import shutil\n",
    "import numpy as np\n",
    "import torch\n",
    "import torch.nn as nn\n",
    "import time\n",
    "\n",
    "from collections import defaultdict\n",
    "from utils.data.load_data import create_data_loaders\n",
    "from utils.common.utils import save_reconstructions, ssim_loss\n",
    "from utils.common.loss_function import SSIMLoss\n",
    "from utils.model.unet import Unet\n",
    "from utils.model.unet import Unet2\n",
    "\n",
    "unet = Unet(in_chans = 1, out_chans = 1)\n",
    "unet2 = Unet2(in_chans = 1, out_chans = 1)"
   ]
  },
  {
   "cell_type": "code",
   "execution_count": 1,
   "id": "88a82ce6",
   "metadata": {},
   "outputs": [
    {
     "name": "stdout",
     "output_type": "stream",
     "text": [
      " Code\t\t     plot.py   run_Unet_SJ.py   train.py\n",
      "'model test.ipynb'   result    test_run.py      utils\n"
     ]
    }
   ],
   "source": [
    "!ls"
   ]
  },
  {
   "cell_type": "markdown",
   "id": "15ab78b6",
   "metadata": {},
   "source": [
    "# Testing model's input & output shape"
   ]
  },
  {
   "cell_type": "code",
   "execution_count": 7,
   "id": "7990d5c5",
   "metadata": {},
   "outputs": [
    {
     "name": "stdout",
     "output_type": "stream",
     "text": [
      "torch.Size([1, 384, 384])\n"
     ]
    }
   ],
   "source": [
    "dummy_input = torch.Tensor(1, 384, 384)\n",
    "print(dummy_input.shape)"
   ]
  },
  {
   "cell_type": "code",
   "execution_count": 8,
   "id": "33d3d40b",
   "metadata": {},
   "outputs": [
    {
     "name": "stdout",
     "output_type": "stream",
     "text": [
      "torch.Size([1, 384, 384]) torch.Size([1, 384, 384])\n"
     ]
    }
   ],
   "source": [
    "output1 = unet(dummy_input)\n",
    "output2 = unet2(dummy_input)\n",
    "print(output1.shape, output2.shape)"
   ]
  },
  {
   "cell_type": "markdown",
   "id": "bb5ba7d8",
   "metadata": {},
   "source": [
    "# Testing model load & save"
   ]
  },
  {
   "cell_type": "code",
   "execution_count": 93,
   "id": "77a7c41d",
   "metadata": {},
   "outputs": [
    {
     "name": "stdout",
     "output_type": "stream",
     "text": [
      "./result/SJ/test_Unet/checkpoints\n",
      "['best_model.pt', 'model.pt']\n",
      "\n",
      "./result/JB/Unet/checkpoints\n",
      "[]\n",
      "\n",
      "./result/JB/newUnet/checkpoints\n",
      "['best_model.pt', 'model.pt', 'newUnet_test02_epoch30.pt', 'newUnet_test02_best.pt']\n",
      "\n",
      "./result/JB/test_Unet/checkpoints\n",
      "['best_model.pt', 'model.pt']\n",
      "\n",
      "./result/test_Unet/checkpoints\n",
      "[]\n",
      "\n"
     ]
    }
   ],
   "source": [
    "for root, dirs, files in os.walk('./result'):\n",
    "    if root.endswith('/checkpoints'):\n",
    "        print(root)\n",
    "        print(files)\n",
    "        print()"
   ]
  },
  {
   "cell_type": "code",
   "execution_count": 71,
   "id": "7f86b1d7",
   "metadata": {},
   "outputs": [],
   "source": [
    "checkpoint = torch.load(f='/root/SNU_fastMRI/result/JB/newUnet/checkpoints/newUnet_test02_epoch30.pt')"
   ]
  },
  {
   "cell_type": "code",
   "execution_count": 68,
   "id": "b5bcf2be",
   "metadata": {},
   "outputs": [],
   "source": [
    "from utils.model.unet_advanced import Unet as newUnet\n",
    "net = newUnet(1,1)"
   ]
  },
  {
   "cell_type": "code",
   "execution_count": 72,
   "id": "90b77ffb",
   "metadata": {},
   "outputs": [
    {
     "data": {
      "text/plain": [
       "<All keys matched successfully>"
      ]
     },
     "execution_count": 72,
     "metadata": {},
     "output_type": "execute_result"
    }
   ],
   "source": [
    "net.load_state_dict(checkpoint['model'])"
   ]
  },
  {
   "cell_type": "code",
   "execution_count": 114,
   "id": "112bfbc1",
   "metadata": {},
   "outputs": [
    {
     "data": {
      "text/plain": [
       "{'lr': 0.0005,\n",
       " 'betas': (0.9, 0.999),\n",
       " 'eps': 1e-08,\n",
       " 'weight_decay': 0,\n",
       " 'amsgrad': False,\n",
       " 'params': [0,\n",
       "  1,\n",
       "  2,\n",
       "  3,\n",
       "  4,\n",
       "  5,\n",
       "  6,\n",
       "  7,\n",
       "  8,\n",
       "  9,\n",
       "  10,\n",
       "  11,\n",
       "  12,\n",
       "  13,\n",
       "  14,\n",
       "  15,\n",
       "  16,\n",
       "  17,\n",
       "  18,\n",
       "  19,\n",
       "  20,\n",
       "  21,\n",
       "  22,\n",
       "  23]}"
      ]
     },
     "execution_count": 114,
     "metadata": {},
     "output_type": "execute_result"
    }
   ],
   "source": [
    "checkpoint['optimizer']['param_groups'][0]"
   ]
  },
  {
   "cell_type": "code",
   "execution_count": 103,
   "id": "3bfd924a",
   "metadata": {},
   "outputs": [
    {
     "data": {
      "text/plain": [
       "int"
      ]
     },
     "execution_count": 103,
     "metadata": {},
     "output_type": "execute_result"
    }
   ],
   "source": [
    "type(c['epoch'])"
   ]
  },
  {
   "cell_type": "code",
   "execution_count": 73,
   "id": "742307d2",
   "metadata": {},
   "outputs": [
    {
     "data": {
      "text/plain": [
       "Unet(\n",
       "  (down_sample_layers): ModuleList(\n",
       "    (0): ConvBlock(\n",
       "      (layers): Sequential(\n",
       "        (0): Conv2d(1, 32, kernel_size=(3, 3), stride=(1, 1), padding=(1, 1), bias=False)\n",
       "        (1): InstanceNorm2d(32, eps=1e-05, momentum=0.1, affine=False, track_running_stats=False)\n",
       "        (2): LeakyReLU(negative_slope=0.2, inplace=True)\n",
       "        (3): Dropout2d(p=0.0, inplace=False)\n",
       "        (4): Conv2d(32, 32, kernel_size=(3, 3), stride=(1, 1), padding=(1, 1), bias=False)\n",
       "        (5): InstanceNorm2d(32, eps=1e-05, momentum=0.1, affine=False, track_running_stats=False)\n",
       "        (6): LeakyReLU(negative_slope=0.2, inplace=True)\n",
       "        (7): Dropout2d(p=0.0, inplace=False)\n",
       "      )\n",
       "    )\n",
       "    (1): ConvBlock(\n",
       "      (layers): Sequential(\n",
       "        (0): Conv2d(32, 64, kernel_size=(3, 3), stride=(1, 1), padding=(1, 1), bias=False)\n",
       "        (1): InstanceNorm2d(64, eps=1e-05, momentum=0.1, affine=False, track_running_stats=False)\n",
       "        (2): LeakyReLU(negative_slope=0.2, inplace=True)\n",
       "        (3): Dropout2d(p=0.0, inplace=False)\n",
       "        (4): Conv2d(64, 64, kernel_size=(3, 3), stride=(1, 1), padding=(1, 1), bias=False)\n",
       "        (5): InstanceNorm2d(64, eps=1e-05, momentum=0.1, affine=False, track_running_stats=False)\n",
       "        (6): LeakyReLU(negative_slope=0.2, inplace=True)\n",
       "        (7): Dropout2d(p=0.0, inplace=False)\n",
       "      )\n",
       "    )\n",
       "    (2): ConvBlock(\n",
       "      (layers): Sequential(\n",
       "        (0): Conv2d(64, 128, kernel_size=(3, 3), stride=(1, 1), padding=(1, 1), bias=False)\n",
       "        (1): InstanceNorm2d(128, eps=1e-05, momentum=0.1, affine=False, track_running_stats=False)\n",
       "        (2): LeakyReLU(negative_slope=0.2, inplace=True)\n",
       "        (3): Dropout2d(p=0.0, inplace=False)\n",
       "        (4): Conv2d(128, 128, kernel_size=(3, 3), stride=(1, 1), padding=(1, 1), bias=False)\n",
       "        (5): InstanceNorm2d(128, eps=1e-05, momentum=0.1, affine=False, track_running_stats=False)\n",
       "        (6): LeakyReLU(negative_slope=0.2, inplace=True)\n",
       "        (7): Dropout2d(p=0.0, inplace=False)\n",
       "      )\n",
       "    )\n",
       "    (3): ConvBlock(\n",
       "      (layers): Sequential(\n",
       "        (0): Conv2d(128, 256, kernel_size=(3, 3), stride=(1, 1), padding=(1, 1), bias=False)\n",
       "        (1): InstanceNorm2d(256, eps=1e-05, momentum=0.1, affine=False, track_running_stats=False)\n",
       "        (2): LeakyReLU(negative_slope=0.2, inplace=True)\n",
       "        (3): Dropout2d(p=0.0, inplace=False)\n",
       "        (4): Conv2d(256, 256, kernel_size=(3, 3), stride=(1, 1), padding=(1, 1), bias=False)\n",
       "        (5): InstanceNorm2d(256, eps=1e-05, momentum=0.1, affine=False, track_running_stats=False)\n",
       "        (6): LeakyReLU(negative_slope=0.2, inplace=True)\n",
       "        (7): Dropout2d(p=0.0, inplace=False)\n",
       "      )\n",
       "    )\n",
       "  )\n",
       "  (conv): ConvBlock(\n",
       "    (layers): Sequential(\n",
       "      (0): Conv2d(256, 512, kernel_size=(3, 3), stride=(1, 1), padding=(1, 1), bias=False)\n",
       "      (1): InstanceNorm2d(512, eps=1e-05, momentum=0.1, affine=False, track_running_stats=False)\n",
       "      (2): LeakyReLU(negative_slope=0.2, inplace=True)\n",
       "      (3): Dropout2d(p=0.0, inplace=False)\n",
       "      (4): Conv2d(512, 512, kernel_size=(3, 3), stride=(1, 1), padding=(1, 1), bias=False)\n",
       "      (5): InstanceNorm2d(512, eps=1e-05, momentum=0.1, affine=False, track_running_stats=False)\n",
       "      (6): LeakyReLU(negative_slope=0.2, inplace=True)\n",
       "      (7): Dropout2d(p=0.0, inplace=False)\n",
       "    )\n",
       "  )\n",
       "  (up_conv): ModuleList(\n",
       "    (0): ConvBlock(\n",
       "      (layers): Sequential(\n",
       "        (0): Conv2d(512, 256, kernel_size=(3, 3), stride=(1, 1), padding=(1, 1), bias=False)\n",
       "        (1): InstanceNorm2d(256, eps=1e-05, momentum=0.1, affine=False, track_running_stats=False)\n",
       "        (2): LeakyReLU(negative_slope=0.2, inplace=True)\n",
       "        (3): Dropout2d(p=0.0, inplace=False)\n",
       "        (4): Conv2d(256, 256, kernel_size=(3, 3), stride=(1, 1), padding=(1, 1), bias=False)\n",
       "        (5): InstanceNorm2d(256, eps=1e-05, momentum=0.1, affine=False, track_running_stats=False)\n",
       "        (6): LeakyReLU(negative_slope=0.2, inplace=True)\n",
       "        (7): Dropout2d(p=0.0, inplace=False)\n",
       "      )\n",
       "    )\n",
       "    (1): ConvBlock(\n",
       "      (layers): Sequential(\n",
       "        (0): Conv2d(256, 128, kernel_size=(3, 3), stride=(1, 1), padding=(1, 1), bias=False)\n",
       "        (1): InstanceNorm2d(128, eps=1e-05, momentum=0.1, affine=False, track_running_stats=False)\n",
       "        (2): LeakyReLU(negative_slope=0.2, inplace=True)\n",
       "        (3): Dropout2d(p=0.0, inplace=False)\n",
       "        (4): Conv2d(128, 128, kernel_size=(3, 3), stride=(1, 1), padding=(1, 1), bias=False)\n",
       "        (5): InstanceNorm2d(128, eps=1e-05, momentum=0.1, affine=False, track_running_stats=False)\n",
       "        (6): LeakyReLU(negative_slope=0.2, inplace=True)\n",
       "        (7): Dropout2d(p=0.0, inplace=False)\n",
       "      )\n",
       "    )\n",
       "    (2): ConvBlock(\n",
       "      (layers): Sequential(\n",
       "        (0): Conv2d(128, 64, kernel_size=(3, 3), stride=(1, 1), padding=(1, 1), bias=False)\n",
       "        (1): InstanceNorm2d(64, eps=1e-05, momentum=0.1, affine=False, track_running_stats=False)\n",
       "        (2): LeakyReLU(negative_slope=0.2, inplace=True)\n",
       "        (3): Dropout2d(p=0.0, inplace=False)\n",
       "        (4): Conv2d(64, 64, kernel_size=(3, 3), stride=(1, 1), padding=(1, 1), bias=False)\n",
       "        (5): InstanceNorm2d(64, eps=1e-05, momentum=0.1, affine=False, track_running_stats=False)\n",
       "        (6): LeakyReLU(negative_slope=0.2, inplace=True)\n",
       "        (7): Dropout2d(p=0.0, inplace=False)\n",
       "      )\n",
       "    )\n",
       "    (3): Sequential(\n",
       "      (0): ConvBlock(\n",
       "        (layers): Sequential(\n",
       "          (0): Conv2d(64, 32, kernel_size=(3, 3), stride=(1, 1), padding=(1, 1), bias=False)\n",
       "          (1): InstanceNorm2d(32, eps=1e-05, momentum=0.1, affine=False, track_running_stats=False)\n",
       "          (2): LeakyReLU(negative_slope=0.2, inplace=True)\n",
       "          (3): Dropout2d(p=0.0, inplace=False)\n",
       "          (4): Conv2d(32, 32, kernel_size=(3, 3), stride=(1, 1), padding=(1, 1), bias=False)\n",
       "          (5): InstanceNorm2d(32, eps=1e-05, momentum=0.1, affine=False, track_running_stats=False)\n",
       "          (6): LeakyReLU(negative_slope=0.2, inplace=True)\n",
       "          (7): Dropout2d(p=0.0, inplace=False)\n",
       "        )\n",
       "      )\n",
       "      (1): Conv2d(32, 1, kernel_size=(1, 1), stride=(1, 1))\n",
       "    )\n",
       "  )\n",
       "  (up_transpose_conv): ModuleList(\n",
       "    (0): TransposeConvBlock(\n",
       "      (layers): Sequential(\n",
       "        (0): ConvTranspose2d(512, 256, kernel_size=(2, 2), stride=(2, 2), bias=False)\n",
       "        (1): InstanceNorm2d(256, eps=1e-05, momentum=0.1, affine=False, track_running_stats=False)\n",
       "        (2): LeakyReLU(negative_slope=0.2, inplace=True)\n",
       "      )\n",
       "    )\n",
       "    (1): TransposeConvBlock(\n",
       "      (layers): Sequential(\n",
       "        (0): ConvTranspose2d(256, 128, kernel_size=(2, 2), stride=(2, 2), bias=False)\n",
       "        (1): InstanceNorm2d(128, eps=1e-05, momentum=0.1, affine=False, track_running_stats=False)\n",
       "        (2): LeakyReLU(negative_slope=0.2, inplace=True)\n",
       "      )\n",
       "    )\n",
       "    (2): TransposeConvBlock(\n",
       "      (layers): Sequential(\n",
       "        (0): ConvTranspose2d(128, 64, kernel_size=(2, 2), stride=(2, 2), bias=False)\n",
       "        (1): InstanceNorm2d(64, eps=1e-05, momentum=0.1, affine=False, track_running_stats=False)\n",
       "        (2): LeakyReLU(negative_slope=0.2, inplace=True)\n",
       "      )\n",
       "    )\n",
       "    (3): TransposeConvBlock(\n",
       "      (layers): Sequential(\n",
       "        (0): ConvTranspose2d(64, 32, kernel_size=(2, 2), stride=(2, 2), bias=False)\n",
       "        (1): InstanceNorm2d(32, eps=1e-05, momentum=0.1, affine=False, track_running_stats=False)\n",
       "        (2): LeakyReLU(negative_slope=0.2, inplace=True)\n",
       "      )\n",
       "    )\n",
       "  )\n",
       ")"
      ]
     },
     "execution_count": 73,
     "metadata": {},
     "output_type": "execute_result"
    }
   ],
   "source": [
    "net"
   ]
  },
  {
   "cell_type": "code",
   "execution_count": 74,
   "id": "62831906",
   "metadata": {},
   "outputs": [
    {
     "name": "stdout",
     "output_type": "stream",
     "text": [
      "/root/hi\n"
     ]
    }
   ],
   "source": [
    "a = Path('/root')\n",
    "b = 'hi'\n",
    "print(a/b)"
   ]
  },
  {
   "cell_type": "code",
   "execution_count": 2,
   "id": "f2d7f7b3",
   "metadata": {},
   "outputs": [
    {
     "data": {
      "text/plain": [
       "True"
      ]
     },
     "execution_count": 2,
     "metadata": {},
     "output_type": "execute_result"
    }
   ],
   "source": [
    "import os\n",
    "os.path.exists('result/JB/newUnet/checkpoints/newUnet_test02_best.pt')"
   ]
  }
 ],
 "metadata": {
  "kernelspec": {
   "display_name": "Full on Python 3.6 (GPU)",
   "language": "python",
   "name": "python3"
  },
  "language_info": {
   "codemirror_mode": {
    "name": "ipython",
    "version": 3
   },
   "file_extension": ".py",
   "mimetype": "text/x-python",
   "name": "python",
   "nbconvert_exporter": "python",
   "pygments_lexer": "ipython3",
   "version": "3.6.14"
  }
 },
 "nbformat": 4,
 "nbformat_minor": 5
}
